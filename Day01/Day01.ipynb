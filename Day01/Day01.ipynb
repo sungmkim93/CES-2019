{
 "cells": [
  {
   "cell_type": "markdown",
   "metadata": {},
   "source": [
    "# Day01 (2019.01.08, TUE)\n",
    "## Tour Day"
   ]
  },
  {
   "cell_type": "markdown",
   "metadata": {},
   "source": [
    "### Departure the from SAN to LAS at 10:31 AM\n",
    "<img src=\"img/DepartTicket.png\" style=\"width:300px;height:200px;display:inline-block;\">\n",
    "<img src=\"img/AirportSnack.png\" style=\"width:300px;height:200px;display:inline-block;\">\n",
    "<img src=\"img/WelcomLAS.png\" style=\"width:300px;height:200px;display:inline-block;\">\n",
    "### Arrival at LAS(Las Vegas McCarran International Airport) from SAN(San Diego International Airport) at Noon"
   ]
  },
  {
   "cell_type": "markdown",
   "metadata": {},
   "source": [
    "### Getting the My CES badge at LVCC(Las Vegas Convention Center)\n",
    "<img src=\"img/CESBarcode.png\" style=\"width:300px;height:500px;display:inline-block;\">\n",
    "<img src=\"img/CESBadge.png\" style=\"width:600px;height:500px;display:inline-block;\">\n",
    "### After showing barcode about CES registration and your ID(Passport or driver lincence in US), I can get the my CES badge\n"
   ]
  },
  {
   "cell_type": "markdown",
   "metadata": {},
   "source": [
    "### Because I didn't know about Las Vegas and CES Tech Center, I just look around Las Vegas Strip.\n",
    "<img src=\"img/Tour1.png\" style=\"width:320px;height:200px;display:inline-block;\">\n",
    "<img src=\"img/Tour3.png\" style=\"width:320px;height:400px;display:inline-block;\">\n",
    "<img src=\"img/Tour2.png\" style=\"width:320px;height:200px;display:inline-block;\">\n",
    "\n",
    "\n",
    "<img src=\"img/Tour4.png\" style=\"width:320px;height:200px;display:inline-block;\">\n",
    "<img src=\"img/Tour5.png\" style=\"width:320px;height:200px;display:inline-block;\">\n",
    "<img src=\"img/Tour6.png\" style=\"width:320px;height:200px;display:inline-block;\">\n",
    "\n",
    "<img src=\"img/Tour7.png\" style=\"width:320px;height:200px;display:inline-block;\">\n",
    "<img src=\"img/Tour8.png\" style=\"width:320px;height:200px;display:inline-block;\">\n",
    "<img src=\"img/Me.png\" style=\"width:320px;height:400px;display:inline-block;\">\n",
    "\n",
    "\n"
   ]
  }
 ],
 "metadata": {
  "kernelspec": {
   "display_name": "Python 3",
   "language": "python",
   "name": "python3"
  },
  "language_info": {
   "codemirror_mode": {
    "name": "ipython",
    "version": 3
   },
   "file_extension": ".py",
   "mimetype": "text/x-python",
   "name": "python",
   "nbconvert_exporter": "python",
   "pygments_lexer": "ipython3",
   "version": "3.6.6"
  }
 },
 "nbformat": 4,
 "nbformat_minor": 2
}
